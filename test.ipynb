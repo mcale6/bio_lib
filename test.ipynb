{
 "cells": [
  {
   "cell_type": "code",
   "execution_count": 34,
   "metadata": {},
   "outputs": [],
   "source": [
    "import json\n",
    "import os\n",
    "from pathlib import Path\n",
    "import pandas as pd\n",
    "import matplotlib.pyplot as plt\n",
    "import numpy as np\n",
    "from bio_lib import run_prodigy_jax\n",
    "\n",
    "def process_pdbs(dataset_path, pdb_folder, output_folder):\n",
    "    \"\"\"Process all PDBs and save individual results.\"\"\"\n",
    "    with open(dataset_path) as f:\n",
    "        dataset = json.load(f)\n",
    "    \n",
    "    os.makedirs(output_folder, exist_ok=True)\n",
    "    \n",
    "    for pdb_id, data in dataset.items():\n",
    "        try:\n",
    "            pdb_path = Path(pdb_folder) / f\"{pdb_id}.pdb\"\n",
    "            results = run_prodigy_jax.run(\n",
    "                pdb_path=pdb_path,\n",
    "                target_chain=\"A\", \n",
    "                binder_chain=\"B\"\n",
    "            )\n",
    "            results= {k: float(v) if hasattr(v, 'item') else float(v) for k, v in results.to_dict().items()}\n",
    "            \n",
    "            output_path = Path(output_folder) / f\"{pdb_id}.json\"\n",
    "            with open(output_path, 'w') as f:\n",
    "                json.dump(results, f, indent=2)\n",
    "              \n",
    "        except Exception as e:\n",
    "            print(f\"Error processing {pdb_id}: {str(e)}\")"
   ]
  },
  {
   "cell_type": "code",
   "execution_count": 2,
   "metadata": {},
   "outputs": [],
   "source": [
    "import sys\n",
    "#sys.path.append('/home/alessio/bio_lib/src/bio_lib/common')\n",
    "import bio_lib.common.protein as Protein \n",
    "from bio_lib.common.protein_jax import JaxProtein, JAXStructureData\n",
    "from typing import List, Tuple\n"
   ]
  },
  {
   "cell_type": "code",
   "execution_count": 3,
   "metadata": {},
   "outputs": [],
   "source": [
    "def load_pdb_to_jax(pdb_path: str, target_chain: str, binder_chain: str) -> Tuple[JAXStructureData, JAXStructureData]:\n",
    "\n",
    "    processor = JaxProtein()\n",
    "    target = processor.process_pdb(pdb_path, selected_chains=[target_chain])\n",
    "    binder = processor.process_pdb(pdb_path, selected_chains=[binder_chain])\n",
    "    \n",
    "    return target, binder"
   ]
  },
  {
   "cell_type": "code",
   "execution_count": null,
   "metadata": {},
   "outputs": [],
   "source": [
    "pdb_path = \"/home/alessio/dr_sasa_python/data/PRODIGYdataset_fixed/1ACB.pdb\"\n",
    "load_pdb_to_jax(pdb_path, target_chain=\"A\", binder_chain=\"B\")"
   ]
  },
  {
   "cell_type": "code",
   "execution_count": null,
   "metadata": {},
   "outputs": [],
   "source": [
    "org_dataset_path = \"dataset.json\"\n",
    "PRODIGYdataset_path = \"PRODIGYdataset\"\n",
    "benchmark_results_folder = \"benchmark_results\"\n",
    "process_pdbs(org_dataset_path, PRODIGYdataset_path, benchmark_results_folder) # was done on a A100 using google colab"
   ]
  },
  {
   "cell_type": "code",
   "execution_count": 23,
   "metadata": {},
   "outputs": [],
   "source": [
    "      \n",
    "import json\n",
    "import pandas as pd\n",
    "\n",
    "def merge_datasets(original_path: str, computed_path: str, output_path: str):\n",
    "    # Load both datasets\n",
    "    with open(original_path) as f:\n",
    "        original = json.load(f)\n",
    "    with open(computed_path) as f:\n",
    "        computed = json.load(f)\n",
    "    \n",
    "    # Convert to dataframes\n",
    "    df_original = pd.DataFrame.from_dict(original, orient='index')\n",
    "    df_computed = pd.DataFrame.from_dict(computed, orient='index')\n",
    "    \n",
    "    # Add suffix to computed columns to avoid conflicts\n",
    "    df_computed = df_computed.add_suffix('_computed')\n",
    "    \n",
    "    # Merge dataframes\n",
    "    merged_df = pd.merge(\n",
    "        df_original, \n",
    "        df_computed, \n",
    "        left_index=True, \n",
    "        right_index=True,\n",
    "        how='left'\n",
    "    )\n",
    "    \n",
    "    # Save merged dataset\n",
    "    merged_df.to_csv(output_path)\n",
    "    return merged_df\n"
   ]
  },
  {
   "cell_type": "code",
   "execution_count": null,
   "metadata": {},
   "outputs": [],
   "source": [
    "df = merge_datasets( \"/home/alessio/bio_lib/merged_dataset.json\", \"/home/alessio/dr_sasa_python/data/dataset.json\", 'final_dataset.csv')\n",
    "df"
   ]
  },
  {
   "cell_type": "code",
   "execution_count": 44,
   "metadata": {},
   "outputs": [],
   "source": [
    "def create_analysis_plots(df):\n",
    "    fig, axes = plt.subplots(2, 2, figsize=(15, 15))\n",
    "    \n",
    "    # ba_val Correlation with Spearman\n",
    "    ax = axes[0,0]\n",
    "    spearman_corr = np.corrcoef(df['ba_val'], df['ba_val_computed'])[0,1]\n",
    "    ax.scatter(df['ba_val'], df['ba_val_computed'])\n",
    "    ax.plot([-15, 0], [-15, 0], 'r--')\n",
    "    ax.set_xlabel('Original ba_val')\n",
    "    ax.set_ylabel('Computed ba_val')\n",
    "    ax.set_title(f'ba_val Correlation\\nSpearman r={spearman_corr:.3f}')\n",
    "    \n",
    "    # Bland-Altman\n",
    "    ax = axes[0,1]\n",
    "    mean_ba_val = (df['ba_val'] + df['ba_val_computed']) / 2\n",
    "    diff_ba_val = df['ba_val'] - df['ba_val_computed']\n",
    "    ax.scatter(mean_ba_val, diff_ba_val)\n",
    "    ax.axhline(y=np.mean(diff_ba_val), color='r', linestyle='--')\n",
    "    ax.set_xlabel('Mean ba_val')\n",
    "    ax.set_ylabel('Difference (Original - Computed)')\n",
    "    ax.set_title('Bland-Altman Plot')\n",
    "    \n",
    "    # Contact types\n",
    "    ax = axes[1,0]\n",
    "    contact_types = ['CC', 'CP', 'AC', 'PP', 'AP', 'AA']\n",
    "    original = df[contact_types].mean()\n",
    "    computed = df[[f'{ct}_computed' for ct in contact_types]].mean()\n",
    "    \n",
    "    x = np.arange(len(contact_types))\n",
    "    width = 0.35\n",
    "    ax.bar(x - width/2, original, width, label='Original')\n",
    "    ax.bar(x + width/2, computed, width, label='Computed')\n",
    "    ax.set_xticks(x)\n",
    "    ax.set_xticklabels(contact_types)\n",
    "    ax.set_title('Average Contact Types')\n",
    "    ax.legend()\n",
    "    \n",
    "    # NIS correlation pairs\n",
    "    ax = axes[1,1]\n",
    "    nis_types = ['nis_p', 'nis_a', 'nis_c']\n",
    "    nis_data = pd.DataFrame()\n",
    "    \n",
    "    for nis in nis_types:\n",
    "        nis_data[f'Original_{nis}'] = df[nis]\n",
    "        nis_data[f'Computed_{nis}'] = df[f'{nis}_computed']\n",
    "    \n",
    "    # Calculate correlation matrix\n",
    "    corr = nis_data.corr(method='spearman')\n",
    "    \n",
    "    # Create correlation heatmap\n",
    "    im = ax.imshow(corr, cmap='RdYlBu_r', aspect='auto')\n",
    "    plt.colorbar(im, ax=ax)\n",
    "    \n",
    "    # Add correlation values\n",
    "    for i in range(len(corr.columns)):\n",
    "        for j in range(len(corr.columns)):\n",
    "            text = f'{corr.iloc[i, j]:.2f}'\n",
    "            ax.text(j, i, text, ha='center', va='center')\n",
    "    \n",
    "    ax.set_xticks(np.arange(len(corr.columns)))\n",
    "    ax.set_yticks(np.arange(len(corr.columns)))\n",
    "    ax.set_xticklabels(corr.columns, rotation=45, ha='right')\n",
    "    ax.set_yticklabels(corr.columns)\n",
    "    ax.set_title('NIS Spearman Correlations')\n",
    "    \n",
    "    plt.tight_layout()\n",
    "    return fig\n"
   ]
  },
  {
   "cell_type": "code",
   "execution_count": null,
   "metadata": {},
   "outputs": [],
   "source": [
    "# Usage\n",
    "df = pd.read_csv('./benchmark/final_dataset.csv')\n",
    "fig = create_analysis_plots(df)\n",
    "plt.savefig('analysis_plots.png', dpi=300)"
   ]
  },
  {
   "cell_type": "code",
   "execution_count": 11,
   "metadata": {},
   "outputs": [
    {
     "name": "stderr",
     "output_type": "stream",
     "text": [
      "[!] Structure contains gaps:\n",
      "\tA CYS1 < Fragment 0 > A LEU13\n",
      "\tA ILE16 < Fragment 1 > A TYR146\n",
      "\tA ALA149 < Fragment 2 > A ASN245\n",
      "\tB LYS8 < Fragment 3 > B GLY70\n",
      "\n"
     ]
    },
    {
     "name": "stdout",
     "output_type": "stream",
     "text": [
      "[+] Parsed structure file 1ACB (2 chains, 304 residues)\n",
      "{'total': 13161.72782790869, 'per_chain': {'B': 3413.0944317456233, 'A': 9748.63339616307}}\n",
      "[+] No. of intermolecular contacts: 72\n",
      "[+] No. of charged-charged contacts: 3\n",
      "[+] No. of charged-polar contacts: 2\n",
      "[+] No. of charged-apolar contacts: 19\n",
      "[+] No. of polar-polar contacts: 4\n",
      "[+] No. of apolar-polar contacts: 19\n",
      "[+] No. of apolar-apolar contacts: 25\n",
      "[+] Percentage of apolar NIS residues: 38.50\n",
      "[+] Percentage of charged NIS residues: 18.78\n",
      "[++] Predicted binding affinity (kcal.mol-1):    -11.9\n",
      "[++] Predicted dissociation constant (M) at 25.0˚C:  2.0e-09\n",
      "1ACB_ba_results.json 1ACB_sasa_atom_results.csv\n"
     ]
    },
    {
     "data": {
      "text/plain": [
       "{'structure': '1ACB',\n",
       " 'selection': 'A.B',\n",
       " 'temp': 25.0,\n",
       " 'ICs': 72,\n",
       " 'nis_a': 38.497652582159624,\n",
       " 'nis_c': 18.779342723004696,\n",
       " 'nis_p': 42.72300469483568,\n",
       " 'ba_val': -11.867636291079812,\n",
       " 'kd_val': 1.9731060662205486e-09,\n",
       " 'AA': 25,\n",
       " 'PP': 4,\n",
       " 'CC': 3,\n",
       " 'AP': 19,\n",
       " 'CP': 2,\n",
       " 'AC': 19}"
      ]
     },
     "execution_count": 11,
     "metadata": {},
     "output_type": "execute_result"
    }
   ],
   "source": [
    "predict_binding_affinity(\"/Users/alessio/Documents/Repos/dr_sasa_python/data/PRODIGYdataset/1ACB.pdb\", save_results=True)"
   ]
  },
  {
   "cell_type": "code",
   "execution_count": 1,
   "metadata": {},
   "outputs": [
    {
     "name": "stderr",
     "output_type": "stream",
     "text": [
      "WARNING:2025-01-25 19:21:50,987:jax._src.xla_bridge:1000: Platform 'METAL' is experimental and not all JAX functionality may be correctly supported!\n",
      "WARNING: All log messages before absl::InitializeLog() is called are written to STDERR\n",
      "W0000 00:00:1737829310.988020 2991492 mps_client.cc:510] WARNING: JAX Apple GPU support is experimental and not all JAX functionality is correctly supported!\n",
      "I0000 00:00:1737829310.996341 2991492 service.cc:145] XLA service 0x11f6c9c20 initialized for platform METAL (this does not guarantee that XLA will be used). Devices:\n",
      "I0000 00:00:1737829310.996350 2991492 service.cc:153]   StreamExecutor device (0): Metal, <undefined>\n",
      "I0000 00:00:1737829310.997522 2991492 mps_client.cc:406] Using Simple allocator.\n",
      "I0000 00:00:1737829310.997530 2991492 mps_client.cc:384] XLA backend will use up to 51539214336 bytes on device 0 for SimpleAllocator.\n",
      "[!] Structure contains gaps:\n",
      "\tA CYS1 < Fragment 0 > A LEU13\n",
      "\tA ILE16 < Fragment 1 > A TYR146\n",
      "\tA ALA149 < Fragment 2 > A ASN245\n",
      "\tB LYS8 < Fragment 3 > B GLY70\n",
      "\n"
     ]
    },
    {
     "name": "stdout",
     "output_type": "stream",
     "text": [
      "Metal device set to: Apple M1 Max\n",
      "\n",
      "systemMemory: 64.00 GB\n",
      "maxCacheSize: 24.00 GB\n",
      "\n",
      "[+] Parsed structure file 1ACB (2 chains, 304 residues)\n",
      "{'total': 13161.72782790869, 'per_chain': {'B': 3413.0944317456233, 'A': 9748.63339616307}}\n",
      "[+] No. of intermolecular contacts: 72\n",
      "[+] No. of charged-charged contacts: 3\n",
      "[+] No. of charged-polar contacts: 2\n",
      "[+] No. of charged-apolar contacts: 19\n",
      "[+] No. of polar-polar contacts: 4\n",
      "[+] No. of apolar-polar contacts: 19\n",
      "[+] No. of apolar-apolar contacts: 25\n",
      "[+] Percentage of apolar NIS residues: 38.50\n",
      "[+] Percentage of charged NIS residues: 18.78\n",
      "[++] Predicted binding affinity (kcal.mol-1):    -11.9\n",
      "[++] Predicted dissociation constant (M) at 25.0˚C:  2.0e-09\n"
     ]
    },
    {
     "data": {
      "text/plain": [
       "{'structure': '1ACB',\n",
       " 'selection': ['A', 'B'],\n",
       " 'temp': 25.0,\n",
       " 'ICs': 72,\n",
       " 'nis_a': 38.497652582159624,\n",
       " 'nis_c': 18.779342723004696,\n",
       " 'nis_p': 42.72300469483568,\n",
       " 'ba_val': -11.867636291079812,\n",
       " 'kd_val': 1.9731060662205486e-09,\n",
       " 'AA': 25,\n",
       " 'PP': 4,\n",
       " 'CC': 3,\n",
       " 'AP': 19,\n",
       " 'CP': 2,\n",
       " 'AC': 19}"
      ]
     },
     "execution_count": 1,
     "metadata": {},
     "output_type": "execute_result"
    }
   ],
   "source": [
    "from bio_lib.custom_prodigy import predict_binding_affinity\n",
    "import numpy as np\n",
    "predict_binding_affinity(\"/Users/alessio/Documents/Repos/dr_sasa_python/data/PRODIGYdataset/1ACB.pdb\", save_results=True)"
   ]
  },
  {
   "cell_type": "code",
   "execution_count": null,
   "metadata": {},
   "outputs": [],
   "source": [
    "np.exp(-11.554325103759766 / (0.0019858775 * (25+ 273.15)))"
   ]
  },
  {
   "cell_type": "code",
   "execution_count": 2,
   "metadata": {},
   "outputs": [
    {
     "name": "stderr",
     "output_type": "stream",
     "text": [
      "[!] Structure contains gaps:\n",
      "\tA CYS1 < Fragment 0 > A LEU13\n",
      "\tA ILE16 < Fragment 1 > A TYR146\n",
      "\tA ALA149 < Fragment 2 > A ASN245\n",
      "\tB LYS8 < Fragment 3 > B GLY70\n",
      "\n"
     ]
    },
    {
     "name": "stdout",
     "output_type": "stream",
     "text": [
      "[+] Parsed structure file 1ACB (2 chains, 304 residues)\n",
      "{'total': 13161.72782790869, 'per_chain': {'B': 3413.0944317456233, 'A': 9748.63339616307}}\n",
      "[+] No. of intermolecular contacts: 72\n",
      "[+] No. of charged-charged contacts: 3\n",
      "[+] No. of charged-polar contacts: 2\n",
      "[+] No. of charged-apolar contacts: 19\n",
      "[+] No. of polar-polar contacts: 4\n",
      "[+] No. of apolar-polar contacts: 19\n",
      "[+] No. of apolar-apolar contacts: 25\n",
      "[+] Percentage of apolar NIS residues: 38.50\n",
      "[+] Percentage of charged NIS residues: 18.78\n",
      "[++] Predicted binding affinity (kcal.mol-1):    -11.9\n",
      "[++] Predicted dissociation constant (M) at 25.0˚C:  2.0e-09\n"
     ]
    },
    {
     "data": {
      "text/plain": [
       "{'structure': '1ACB',\n",
       " 'selection': ['A', 'B'],\n",
       " 'temp': 25.0,\n",
       " 'ICs': 72,\n",
       " 'nis_a': 38.497652582159624,\n",
       " 'nis_c': 18.779342723004696,\n",
       " 'nis_p': 42.72300469483568,\n",
       " 'ba_val': -11.867636291079812,\n",
       " 'kd_val': 1.9731060662205486e-09,\n",
       " 'AA': 25,\n",
       " 'PP': 4,\n",
       " 'CC': 3,\n",
       " 'AP': 19,\n",
       " 'CP': 2,\n",
       " 'AC': 19}"
      ]
     },
     "execution_count": 2,
     "metadata": {},
     "output_type": "execute_result"
    }
   ],
   "source": [
    "predict_binding_affinity(\"/Users/alessio/Documents/Repos/dr_sasa_python/data/PRODIGYdataset/1ACB.pdb\", save_results=True)"
   ]
  },
  {
   "cell_type": "code",
   "execution_count": null,
   "metadata": {},
   "outputs": [],
   "source": [
    "predict_binding_affinity(\"/Users/alessio/Documents/Repos/dr_sasa_python/data/PRODIGYdataset/1ACB.pdb\", acc_threshold=0.05)"
   ]
  },
  {
   "cell_type": "code",
   "execution_count": null,
   "metadata": {},
   "outputs": [],
   "source": []
  }
 ],
 "metadata": {
  "kernelspec": {
   "display_name": "bio_lib_env",
   "language": "python",
   "name": "python3"
  },
  "language_info": {
   "codemirror_mode": {
    "name": "ipython",
    "version": 3
   },
   "file_extension": ".py",
   "mimetype": "text/x-python",
   "name": "python",
   "nbconvert_exporter": "python",
   "pygments_lexer": "ipython3",
   "version": "3.10.16"
  }
 },
 "nbformat": 4,
 "nbformat_minor": 2
}
