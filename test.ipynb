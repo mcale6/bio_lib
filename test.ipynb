{
 "cells": [
  {
   "cell_type": "code",
   "execution_count": 1,
   "metadata": {},
   "outputs": [],
   "source": [
    "from  utils import process_pdb_to_arrays, input_to_jax_structure\n",
    "from common.residue_library import ResidueLibrary\n",
    "import numpy as np\n",
    "import jax.numpy as jnp\n",
    "from shrake_rupley_jax import calculate_sasa\n",
    "residue_library = ResidueLibrary()\n",
    "sphere_points = jnp.array(np.loadtxt(\"./common/thomson1000.xyz\", skiprows=1))"
   ]
  },
  {
   "cell_type": "code",
   "execution_count": null,
   "metadata": {},
   "outputs": [],
   "source": [
    "class ShrakeRupleyCalculator:\n",
    "    def __init__(self, probe_radius: float = 1.4, points_file: str = \"./common/thomson1000.xyz\"):\n",
    "        self._sphere_points = jnp.array(np.loadtxt(points_file, skiprows=1))\n",
    "        self.n_points = len(self._sphere_points)\n",
    "        self.probe_radius = jnp.array(probe_radius)\n",
    "\n",
    "    @partial(jit, static_argnums=(0,))\n",
    "    def _compute_interaction_matrix(self, coords: jnp.ndarray, vdw_radii: jnp.ndarray) -> jnp.ndarray:\n",
    "        radii = vdw_radii + self.probe_radius\n",
    "\n",
    "        diff = coords[:, None, :] - coords[None, :, :]\n",
    "        dist2 = jnp.sum(diff * diff, axis=-1)\n",
    "\n",
    "        radsum = radii[:, None] + radii[None, :]\n",
    "        radsum2 = radsum * radsum\n",
    "\n",
    "        result = (dist2 <= radsum2) & ~jnp.eye(coords.shape[0], dtype=bool)\n",
    "        return result\n",
    "\n",
    "    @partial(jit, static_argnums=(0,))\n",
    "    def _compute_all_atom_sasa(self, coords: jnp.ndarray, vdw_radii: jnp.ndarray,\n",
    "                               interaction_matrix: jnp.ndarray) -> jnp.ndarray:\n",
    "        radii = vdw_radii + self.probe_radius\n",
    "\n",
    "        # Expand sphere points for all atoms\n",
    "        scaled_points = self._sphere_points[None, :, :] * radii[:, None, None] + coords[:, None, :]\n",
    "\n",
    "        # Compute distances from all scaled points to all atoms\n",
    "        diff = scaled_points[:, :, None, :] - coords[None, None, :, :]\n",
    "        dist2 = jnp.sum(diff * diff, axis=-1)\n",
    "\n",
    "        # Compare against squared radii\n",
    "        radii2 = jnp.square(vdw_radii + self.probe_radius)\n",
    "        is_buried = (dist2 <= radii2[None, None, :]) & interaction_matrix[:, None, :]\n",
    "\n",
    "        # Determine buried points for each atom\n",
    "        buried_points = jnp.any(is_buried, axis=-1)\n",
    "        n_accessible = self.n_points - jnp.sum(buried_points, axis=-1)\n",
    "\n",
    "        # Calculate SASA\n",
    "        areas = 4.0 * jnp.pi * jnp.square(radii)\n",
    "        sasa = areas * (n_accessible / self.n_points)\n",
    "\n",
    "        return sasa\n",
    "\n",
    "    @partial(jit, static_argnums=(0,))\n",
    "    def calculate_all(self, coords: jnp.ndarray, vdw_radii: jnp.ndarray,\n",
    "                      mask: jnp.ndarray = None) -> jnp.ndarray:\n",
    "        \"\"\"\n",
    "        mask: [N] mask (1 = valid atom, 0 = masked/padding in AF2)\n",
    "        \"\"\"\n",
    "        if mask is None:\n",
    "            mask = jnp.ones_like(vdw_radii)  # All atoms valid\n",
    "\n",
    "        # Apply mask directly (1=valid, 0=masked)\n",
    "        masked_coords = coords * mask[:, None]  # [N, 3]\n",
    "        masked_radii = vdw_radii * mask        # [N]\n",
    "\n",
    "        # Calculate with masked values\n",
    "        interaction_matrix = self._compute_interaction_matrix(masked_coords, masked_radii)\n",
    "        sasa = self._compute_all_atom_sasa(masked_coords, masked_radii, interaction_matrix)\n",
    "\n",
    "        return sasa"
   ]
  },
  {
   "cell_type": "code",
   "execution_count": 2,
   "metadata": {},
   "outputs": [],
   "source": [
    "test_pdb = \"/home/alessio/dr_sasa_python/data/PRODIGYdataset_fixed/1A2K.pdb\"\n",
    "(positions, aatype_list, atom_mask, residue_index_list, \n",
    " b_factors, atom_names,\n",
    " residue_names, chain_ids, \n",
    " residue_numbers, elements, atom_radii) = process_pdb_to_arrays(test_pdb, residue_library)\n",
    "jax_structure_data = input_to_jax_structure(\n",
    "    atom_positions=positions,\n",
    "    atom_radii=atom_radii,\n",
    "    aatype=aatype_list,\n",
    "    atom_mask=atom_mask,\n",
    "    residue_index=residue_index_list,\n",
    "    b_factors=b_factors,\n",
    "    atom_names=atom_names,\n",
    "    residue_names=residue_names,\n",
    "    chain_ids=chain_ids,\n",
    "    residue_numbers=residue_numbers,\n",
    "    elements=elements,\n",
    "    structure_id=\"protein\"\n",
    ")\n"
   ]
  },
  {
   "cell_type": "code",
   "execution_count": 3,
   "metadata": {},
   "outputs": [],
   "source": [
    "sasa = calculate_sasa(jax_structure_data.atom_positions, jax_structure_data.atom_radii, \n",
    "                       jnp.array(jax_structure_data.atom_mask), sphere_points)\n",
    "\n"
   ]
  },
  {
   "cell_type": "code",
   "execution_count": 4,
   "metadata": {},
   "outputs": [
    {
     "ename": "",
     "evalue": "",
     "output_type": "error",
     "traceback": [
      "\u001b[1;31mThe Kernel crashed while executing code in the current cell or a previous cell. \n",
      "\u001b[1;31mPlease review the code in the cell(s) to identify a possible cause of the failure. \n",
      "\u001b[1;31mClick <a href='https://aka.ms/vscodeJupyterKernelCrash'>here</a> for more info. \n",
      "\u001b[1;31mView Jupyter <a href='command:jupyter.viewOutput'>log</a> for further details."
     ]
    }
   ],
   "source": [
    "sasa"
   ]
  },
  {
   "cell_type": "markdown",
   "metadata": {},
   "source": []
  }
 ],
 "metadata": {
  "kernelspec": {
   "display_name": "bio_lib",
   "language": "python",
   "name": "python3"
  },
  "language_info": {
   "codemirror_mode": {
    "name": "ipython",
    "version": 3
   },
   "file_extension": ".py",
   "mimetype": "text/x-python",
   "name": "python",
   "nbconvert_exporter": "python",
   "pygments_lexer": "ipython3",
   "version": "3.10.16"
  }
 },
 "nbformat": 4,
 "nbformat_minor": 2
}
