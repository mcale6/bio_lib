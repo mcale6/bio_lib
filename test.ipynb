{
 "cells": [
  {
   "cell_type": "code",
   "execution_count": 1,
   "metadata": {},
   "outputs": [],
   "source": [
    "from  utils import process_pdb_to_arrays, input_to_jax_structure\n",
    "from common.residue_library import ResidueLibrary\n",
    "import numpy as np\n",
    "import jax.numpy as jnp\n",
    "from shrake_rupley_jax import calculate_sasa\n",
    "residue_library = ResidueLibrary()\n",
    "sphere_points = jnp.array(np.loadtxt(\"./common/thomson1000.xyz\", skiprows=1))"
   ]
  },
  {
   "cell_type": "code",
   "execution_count": 4,
   "metadata": {},
   "outputs": [],
   "source": [
    "test_pdb = \"/home/alessio/dr_sasa_python/data/PRODIGYdataset_fixed/1A2K.pdb\"\n",
    "(positions, aatype_list, atom_mask, residue_index_list, \n",
    " b_factors, atom_names,\n",
    " residue_names, chain_ids, \n",
    " residue_numbers, elements, atom_radii) = process_pdb_to_arrays(test_pdb, residue_library)\n",
    "jax_structure_data = input_to_jax_structure(\n",
    "    atom_positions=positions,\n",
    "    atom_radii=atom_radii,\n",
    "    aatype=aatype_list,\n",
    "    atom_mask=atom_mask,\n",
    "    residue_index=residue_index_list,\n",
    "    b_factors=b_factors,\n",
    "    atom_names=atom_names,\n",
    "    residue_names=residue_names,\n",
    "    chain_ids=chain_ids,\n",
    "    residue_numbers=residue_numbers,\n",
    "    elements=elements,\n",
    "    structure_id=\"protein\"\n",
    ")\n",
    "sasa = calculate_sasa(jax_structure_data.atom_positions, jax_structure_data.atom_radii,  jnp.array(jax_structure_data.atom_mask), sphere_points)"
   ]
  },
  {
   "cell_type": "code",
   "execution_count": null,
   "metadata": {},
   "outputs": [],
   "source": []
  },
  {
   "cell_type": "markdown",
   "metadata": {},
   "source": []
  }
 ],
 "metadata": {
  "kernelspec": {
   "display_name": "bio_lib",
   "language": "python",
   "name": "python3"
  },
  "language_info": {
   "codemirror_mode": {
    "name": "ipython",
    "version": 3
   },
   "file_extension": ".py",
   "mimetype": "text/x-python",
   "name": "python",
   "nbconvert_exporter": "python",
   "pygments_lexer": "ipython3",
   "version": "3.10.16"
  }
 },
 "nbformat": 4,
 "nbformat_minor": 2
}
